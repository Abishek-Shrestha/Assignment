{
 "cells": [
  {
   "cell_type": "code",
   "execution_count": 2,
   "metadata": {},
   "outputs": [
    {
     "data": {
      "text/plain": [
       "'tHIS IS Me 123'"
      ]
     },
     "execution_count": 2,
     "metadata": {},
     "output_type": "execute_result"
    }
   ],
   "source": [
    "#1. Q. You are given a string and your task is to swap cases. In other words, convert all lowercase letters to uppercase letters and vice versa.\n",
    " #solution:\n",
    "string = \"This is mE 123\"\n",
    "string.swapcase()\n"
   ]
  },
  {
   "cell_type": "code",
   "execution_count": 4,
   "metadata": {},
   "outputs": [
    {
     "name": "stdout",
     "output_type": "stream",
     "text": [
      "2\n"
     ]
    }
   ],
   "source": [
    "#2. The user enters a string and a substring. You have to print the number of times that the substring occurs in the given string. String traversal will take place from left to right, not from right to left.¶\n",
    "  #solution:\n",
    "s = input()\n",
    "subt = input()\n",
    "count = 0\n",
    "\n",
    "\n",
    "for i in range(0, len(s)):\n",
    "    if s[i] == subt[0]:\n",
    "        if s[i:i+len(subt)] == subt:\n",
    "            count += 1\n",
    "\n",
    "print(count)\n"
   ]
  },
  {
   "cell_type": "code",
   "execution_count": 5,
   "metadata": {},
   "outputs": [
    {
     "name": "stdout",
     "output_type": "stream",
     "text": [
      "[(10, 20, 100), (40, 50, 100), (70, 80, 100)]\n"
     ]
    }
   ],
   "source": [
    "#3.  Write a Python program to replace last value of tuples in a list. \n",
    "    #Sample list: [(10, 20, 40), (40, 50, 60), (70, 80, 90)]\n",
    "    #solution:\n",
    "\n",
    "l= [(10, 20, 40), (40, 50, 60), (70, 80, 90)]\n",
    "print([m[:-1] + (100,) for m in l])"
   ]
  },
  {
   "cell_type": "code",
   "execution_count": 7,
   "metadata": {},
   "outputs": [
    {
     "name": "stdout",
     "output_type": "stream",
     "text": [
      "The resulted string is: Helloworld\n"
     ]
    }
   ],
   "source": [
    "#4. Write a class in which its one method accepts a string from console and another method to print the characters that have even indexes\n",
    "\n",
    "#input = H1e2l3l4o5w6o7r8l9d\n",
    "class Even:\n",
    "\n",
    "    def __init__(self):\n",
    "        self.text = \"\"\n",
    "        self.output = \"\"\n",
    "    \n",
    "  \n",
    "    \n",
    "    def enter_text(self):\n",
    "        self.text = input('Enter the string...')\n",
    "\n",
    "        for j in self.text:\n",
    "            if (self.text.index(j) % 2 == 0):\n",
    "                self.output +=j \n",
    "\n",
    "        return self.output\n",
    "    \n",
    "\n",
    "    \n",
    "    def print_output(self):\n",
    "        print(\"The resulted string is:\", self.output)\n",
    "\n",
    "if __name__ == \"__main__\":\n",
    "    es =Even()\n",
    "    es.enter_text()\n",
    "    es.print_output()\n"
   ]
  },
  {
   "cell_type": "code",
   "execution_count": null,
   "metadata": {},
   "outputs": [],
   "source": []
  }
 ],
 "metadata": {
  "kernelspec": {
   "display_name": "Python 3",
   "language": "python",
   "name": "python3"
  },
  "language_info": {
   "codemirror_mode": {
    "name": "ipython",
    "version": 3
   },
   "file_extension": ".py",
   "mimetype": "text/x-python",
   "name": "python",
   "nbconvert_exporter": "python",
   "pygments_lexer": "ipython3",
   "version": "3.6.5"
  }
 },
 "nbformat": 4,
 "nbformat_minor": 2
}
